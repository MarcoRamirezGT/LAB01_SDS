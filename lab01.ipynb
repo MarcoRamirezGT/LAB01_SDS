{
 "cells": [
  {
   "attachments": {},
   "cell_type": "markdown",
   "metadata": {},
   "source": [
    "# LABORATORIO #1 - Deteccion de Phishing\n",
    " Autor: Javier Estuardo 19202\n",
    " \n",
    " Autor: Marco Ramirez   19588\n"
   ]
  },
  {
   "attachments": {},
   "cell_type": "markdown",
   "metadata": {},
   "source": [
    "### Parte 1\n"
   ]
  },
  {
   "attachments": {},
   "cell_type": "markdown",
   "metadata": {},
   "source": [
    "* 1. Cargue el dataset en un dataframe de pandas, muestre un ejemplo de cinco observaciones. "
   ]
  },
  {
   "cell_type": "code",
   "execution_count": null,
   "metadata": {},
   "outputs": [],
   "source": [
    "import pandas as pd\n"
   ]
  },
  {
   "attachments": {},
   "cell_type": "markdown",
   "metadata": {},
   "source": [
    "* 2. Muestre la cantidad de observaciones etiquetadas en la columna status como “legit” y como \n",
    "“pishing”. ¿Está balanceado el dataset? "
   ]
  },
  {
   "attachments": {},
   "cell_type": "markdown",
   "metadata": {},
   "source": [
    "* 3. Para ello escriba las funciones necesarias y genere las nuevas columnas del dataset. Muestre un nuevo \n",
    "ejemplo de cinco observaciones donde se visualicen algunas de las columnas nuevas. "
   ]
  },
  {
   "attachments": {},
   "cell_type": "markdown",
   "metadata": {},
   "source": [
    "* 4. Realice  las  modificaciones  necesarias  para  convertir  la  variable  categórica  status  a  una  variable \n",
    "binaria. Elimine la columna del dominio. "
   ]
  },
  {
   "attachments": {},
   "cell_type": "markdown",
   "metadata": {},
   "source": [
    "* 5. Genere  un  reporte  de  perfil  con  la  librería  pandas_profiling.  Analice  el  reporte  y  determine  las \n",
    "columnas que son constantes, o que no tienen una varianza alta con la columna status. Almacene su \n",
    "reporte como una página html. "
   ]
  },
  {
   "attachments": {},
   "cell_type": "markdown",
   "metadata": {},
   "source": [
    "* 6. En base al análisis del reporte, elimine las características repetidas o irrelevantes para la clasificación \n",
    "de un sitio de pishing. Verifique que no posee observaciones repetidas. "
   ]
  },
  {
   "attachments": {},
   "cell_type": "markdown",
   "metadata": {},
   "source": [
    "### Parte 2"
   ]
  },
  {
   "attachments": {},
   "cell_type": "markdown",
   "metadata": {},
   "source": [
    "* 1. Separación de datos\n",
    "\n",
    "        * Datos de entrenamiento: 55%\n",
    " \n",
    "        * Datos de validación: 15% \n",
    "        * Datos de prueba: 30% \n",
    "        * Almacene cada dataset como un archivo .csv \n"
   ]
  },
  {
   "attachments": {},
   "cell_type": "markdown",
   "metadata": {},
   "source": [
    "* 2. Utilice dos algoritmos de Machine Learning para entrenar el modelo. Muestre y explique los valores \n",
    "obtenidos de las siguientes métricas para los datos de validación y pruebas, para cada modelo, en \n",
    "base al contexto del problema (detección de Pishing). "
   ]
  },
  {
   "attachments": {},
   "cell_type": "markdown",
   "metadata": {},
   "source": [
    "        * Modelo 1"
   ]
  },
  {
   "attachments": {},
   "cell_type": "markdown",
   "metadata": {},
   "source": [
    "        * Resultados de modelo 1"
   ]
  },
  {
   "attachments": {},
   "cell_type": "markdown",
   "metadata": {},
   "source": [
    "        * Modelo 2\n"
   ]
  },
  {
   "attachments": {},
   "cell_type": "markdown",
   "metadata": {},
   "source": [
    "        * Resultados del modelo 2"
   ]
  },
  {
   "attachments": {},
   "cell_type": "markdown",
   "metadata": {},
   "source": [
    "### Discusion"
   ]
  },
  {
   "attachments": {},
   "cell_type": "markdown",
   "metadata": {},
   "source": [
    "* 1. ¿Cuál es el impacto de clasificar un sitio legítimo como Pishing?  \n",
    "* 2. ¿Cuál es el impacto de clasificar un sitio de Pishing como legítimo? \n",
    "* 3. En base a las respuestas anteriores, ¿Qué métrica elegiría para comparar modelos similares de clasificación de pishing? \n",
    "* 4. ¿Qué modelo es mejor para la clasificación de Pishing? Justifique \n",
    "* 5. En base a las métricas obtenidas ¿es necesaria la intervención de una persona humana para tomar la decisión final? "
   ]
  }
 ],
 "metadata": {
  "kernelspec": {
   "display_name": "Python 3",
   "language": "python",
   "name": "python3"
  },
  "language_info": {
   "name": "python",
   "version": "3.11.0"
  },
  "orig_nbformat": 4,
  "vscode": {
   "interpreter": {
    "hash": "1b1795c3155ea850f1620ea6d7ff8c398eb0edd17371752c027d4f5cb319567a"
   }
  }
 },
 "nbformat": 4,
 "nbformat_minor": 2
}
